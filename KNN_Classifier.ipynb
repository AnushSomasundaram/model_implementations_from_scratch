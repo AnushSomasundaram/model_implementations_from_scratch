{
 "cells": [
  {
   "cell_type": "markdown",
   "metadata": {},
   "source": [
    "# KNN Classifier for Stress Detection and Management \n",
    "\n",
    "This jupyter notebook demostrates the application of the **KNN Classifier** to a dataset that has the following features:\n",
    "HeartRate, SkinConductance, EEG,Temperature, PupilDiameter,SmileIntensity, FrownIntensity, CortisolLevel, ActivityLevel,AmbientNoiseLevel, LightingLevel, EmotionalState, ES_disengaged,ES_engaged, ES_partially engaged, CognitiveState, CS_distracted,CS_focused, EngagementLevel.\n",
    "\n",
    "The expected outcome of this ipynb is to be able to predict the Engagement Level of individuals. This target variable have various applications, and the ones we will be focusing on are stress detection and management systems."
   ]
  },
  {
   "cell_type": "markdown",
   "metadata": {},
   "source": [
    "# K-Nearest Neighbors (KNN)\n",
    "\n",
    "K-Nearest Neighbors (KNN) is a simple and versatile machine learning algorithm used for both classification and regression tasks. It works by identifying the k closest data points (neighbors) to a given input, based on a chosen distance metric (e.g., Euclidean distance).\n",
    "For classification, KNN predicts the class of a data point by taking a majority vote among the classes of its neighbors. For regression, it predicts the value by averaging the values of the neighbors.\n",
    "\n",
    "KNN is a non-parametric and instance-based algorithm, meaning it does not assume a specific data distribution and makes predictions using the entire training dataset."
   ]
  },
  {
   "cell_type": "markdown",
   "metadata": {},
   "source": [
    "# Objectives of this notebook\n",
    "\n",
    "1. Model Training\n",
    "2. Model Evaluation\n",
    "3. Visualization "
   ]
  },
  {
   "cell_type": "markdown",
   "metadata": {},
   "source": [
    "## Import the required Pacakages"
   ]
  },
  {
   "cell_type": "code",
   "execution_count": 2,
   "metadata": {},
   "outputs": [],
   "source": [
    "import pandas as pd\n",
    "from sklearn.model_selection import train_test_split\n",
    "from sklearn.preprocessing import LabelEncoder\n",
    "from sklearn.neighbors import KNeighborsClassifier\n",
    "from sklearn.metrics import classification_report, confusion_matrix"
   ]
  },
  {
   "cell_type": "markdown",
   "metadata": {},
   "source": [
    "## Load the required dataset"
   ]
  },
  {
   "cell_type": "code",
   "execution_count": 3,
   "metadata": {},
   "outputs": [],
   "source": [
    "data_path = \"/Users/software/Desktop/Sem1_stevens/Knowledge_discovery_and_Data_mining/final_project/CS513-A/KNN/KNN_Dataset.csv\"\n",
    "df = pd.read_csv(data_path)"
   ]
  },
  {
   "cell_type": "code",
   "execution_count": 4,
   "metadata": {},
   "outputs": [
    {
     "name": "stdout",
     "output_type": "stream",
     "text": [
      "<class 'pandas.core.frame.DataFrame'>\n",
      "RangeIndex: 1000 entries, 0 to 999\n",
      "Data columns (total 19 columns):\n",
      " #   Column                Non-Null Count  Dtype  \n",
      "---  ------                --------------  -----  \n",
      " 0   HeartRate             1000 non-null   int64  \n",
      " 1   SkinConductance       1000 non-null   float64\n",
      " 2   EEG                   1000 non-null   float64\n",
      " 3   Temperature           1000 non-null   float64\n",
      " 4   PupilDiameter         1000 non-null   float64\n",
      " 5   SmileIntensity        1000 non-null   float64\n",
      " 6   FrownIntensity        1000 non-null   float64\n",
      " 7   CortisolLevel         1000 non-null   float64\n",
      " 8   ActivityLevel         1000 non-null   int64  \n",
      " 9   AmbientNoiseLevel     1000 non-null   int64  \n",
      " 10  LightingLevel         1000 non-null   int64  \n",
      " 11  EmotionalState        1000 non-null   object \n",
      " 12  ES_disengaged         1000 non-null   int64  \n",
      " 13  ES_engaged            1000 non-null   int64  \n",
      " 14  ES_partially engaged  1000 non-null   int64  \n",
      " 15  CognitiveState        1000 non-null   object \n",
      " 16  CS_distracted         1000 non-null   int64  \n",
      " 17  CS_focused            1000 non-null   int64  \n",
      " 18  EngagementLevel       1000 non-null   int64  \n",
      "dtypes: float64(7), int64(10), object(2)\n",
      "memory usage: 148.6+ KB\n"
     ]
    }
   ],
   "source": [
    "df.info()"
   ]
  },
  {
   "cell_type": "code",
   "execution_count": 5,
   "metadata": {},
   "outputs": [],
   "source": [
    "attr = df.drop(columns=['EngagementLevel', 'ES_disengaged', 'ES_engaged', 'ES_partially engaged', 'CS_distracted', 'CS_focused'], axis=1).select_dtypes(exclude='object')\n",
    "target = df['EngagementLevel']\n",
    "\n",
    "\n",
    "attr_train, attr_test, target_train, target_test = train_test_split(attr, target, test_size=0.3, random_state=5)"
   ]
  },
  {
   "cell_type": "code",
   "execution_count": 6,
   "metadata": {},
   "outputs": [
    {
     "name": "stdout",
     "output_type": "stream",
     "text": [
      "<class 'pandas.core.frame.DataFrame'>\n",
      "Index: 700 entries, 904 to 867\n",
      "Data columns (total 11 columns):\n",
      " #   Column             Non-Null Count  Dtype  \n",
      "---  ------             --------------  -----  \n",
      " 0   HeartRate          700 non-null    int64  \n",
      " 1   SkinConductance    700 non-null    float64\n",
      " 2   EEG                700 non-null    float64\n",
      " 3   Temperature        700 non-null    float64\n",
      " 4   PupilDiameter      700 non-null    float64\n",
      " 5   SmileIntensity     700 non-null    float64\n",
      " 6   FrownIntensity     700 non-null    float64\n",
      " 7   CortisolLevel      700 non-null    float64\n",
      " 8   ActivityLevel      700 non-null    int64  \n",
      " 9   AmbientNoiseLevel  700 non-null    int64  \n",
      " 10  LightingLevel      700 non-null    int64  \n",
      "dtypes: float64(7), int64(4)\n",
      "memory usage: 65.6 KB\n"
     ]
    }
   ],
   "source": [
    "attr_train.info()"
   ]
  },
  {
   "cell_type": "code",
   "execution_count": 24,
   "metadata": {},
   "outputs": [
    {
     "name": "stdout",
     "output_type": "stream",
     "text": [
      "<class 'pandas.core.series.Series'>\n",
      "Index: 700 entries, 904 to 867\n",
      "Series name: EngagementLevel\n",
      "Non-Null Count  Dtype\n",
      "--------------  -----\n",
      "700 non-null    int64\n",
      "dtypes: int64(1)\n",
      "memory usage: 10.9 KB\n"
     ]
    }
   ],
   "source": [
    "target_train.info()"
   ]
  },
  {
   "cell_type": "code",
   "execution_count": 25,
   "metadata": {},
   "outputs": [
    {
     "data": {
      "text/html": [
       "<div>\n",
       "<style scoped>\n",
       "    .dataframe tbody tr th:only-of-type {\n",
       "        vertical-align: middle;\n",
       "    }\n",
       "\n",
       "    .dataframe tbody tr th {\n",
       "        vertical-align: top;\n",
       "    }\n",
       "\n",
       "    .dataframe thead th {\n",
       "        text-align: right;\n",
       "    }\n",
       "</style>\n",
       "<table border=\"1\" class=\"dataframe\">\n",
       "  <thead>\n",
       "    <tr style=\"text-align: right;\">\n",
       "      <th></th>\n",
       "      <th>HeartRate</th>\n",
       "      <th>SkinConductance</th>\n",
       "      <th>EEG</th>\n",
       "      <th>Temperature</th>\n",
       "      <th>PupilDiameter</th>\n",
       "      <th>SmileIntensity</th>\n",
       "      <th>FrownIntensity</th>\n",
       "      <th>CortisolLevel</th>\n",
       "      <th>ActivityLevel</th>\n",
       "      <th>AmbientNoiseLevel</th>\n",
       "      <th>LightingLevel</th>\n",
       "    </tr>\n",
       "  </thead>\n",
       "  <tbody>\n",
       "    <tr>\n",
       "      <th>0</th>\n",
       "      <td>0.016949</td>\n",
       "      <td>0.595629</td>\n",
       "      <td>0.589697</td>\n",
       "      <td>0.334290</td>\n",
       "      <td>0.666084</td>\n",
       "      <td>0.689828</td>\n",
       "      <td>0.236418</td>\n",
       "      <td>0.068556</td>\n",
       "      <td>0.683417</td>\n",
       "      <td>1.000000</td>\n",
       "      <td>0.131994</td>\n",
       "    </tr>\n",
       "    <tr>\n",
       "      <th>1</th>\n",
       "      <td>0.000000</td>\n",
       "      <td>0.842340</td>\n",
       "      <td>0.958107</td>\n",
       "      <td>0.412519</td>\n",
       "      <td>0.715587</td>\n",
       "      <td>0.561374</td>\n",
       "      <td>0.114243</td>\n",
       "      <td>0.044301</td>\n",
       "      <td>0.778894</td>\n",
       "      <td>0.310345</td>\n",
       "      <td>0.253945</td>\n",
       "    </tr>\n",
       "    <tr>\n",
       "      <th>2</th>\n",
       "      <td>0.355932</td>\n",
       "      <td>0.243582</td>\n",
       "      <td>0.310810</td>\n",
       "      <td>0.117450</td>\n",
       "      <td>0.410145</td>\n",
       "      <td>0.417964</td>\n",
       "      <td>0.284373</td>\n",
       "      <td>0.615139</td>\n",
       "      <td>0.276382</td>\n",
       "      <td>0.000000</td>\n",
       "      <td>0.760402</td>\n",
       "    </tr>\n",
       "    <tr>\n",
       "      <th>3</th>\n",
       "      <td>1.000000</td>\n",
       "      <td>0.036980</td>\n",
       "      <td>0.226519</td>\n",
       "      <td>0.803964</td>\n",
       "      <td>0.096379</td>\n",
       "      <td>0.139608</td>\n",
       "      <td>0.629179</td>\n",
       "      <td>0.779606</td>\n",
       "      <td>0.195980</td>\n",
       "      <td>0.344828</td>\n",
       "      <td>0.430416</td>\n",
       "    </tr>\n",
       "    <tr>\n",
       "      <th>4</th>\n",
       "      <td>0.983051</td>\n",
       "      <td>0.031263</td>\n",
       "      <td>0.048898</td>\n",
       "      <td>0.832552</td>\n",
       "      <td>0.225216</td>\n",
       "      <td>0.063732</td>\n",
       "      <td>0.870183</td>\n",
       "      <td>0.903025</td>\n",
       "      <td>0.050251</td>\n",
       "      <td>0.413793</td>\n",
       "      <td>0.869440</td>\n",
       "    </tr>\n",
       "  </tbody>\n",
       "</table>\n",
       "</div>"
      ],
      "text/plain": [
       "   HeartRate  SkinConductance       EEG  Temperature  PupilDiameter  \\\n",
       "0   0.016949         0.595629  0.589697     0.334290       0.666084   \n",
       "1   0.000000         0.842340  0.958107     0.412519       0.715587   \n",
       "2   0.355932         0.243582  0.310810     0.117450       0.410145   \n",
       "3   1.000000         0.036980  0.226519     0.803964       0.096379   \n",
       "4   0.983051         0.031263  0.048898     0.832552       0.225216   \n",
       "\n",
       "   SmileIntensity  FrownIntensity  CortisolLevel  ActivityLevel  \\\n",
       "0        0.689828        0.236418       0.068556       0.683417   \n",
       "1        0.561374        0.114243       0.044301       0.778894   \n",
       "2        0.417964        0.284373       0.615139       0.276382   \n",
       "3        0.139608        0.629179       0.779606       0.195980   \n",
       "4        0.063732        0.870183       0.903025       0.050251   \n",
       "\n",
       "   AmbientNoiseLevel  LightingLevel  \n",
       "0           1.000000       0.131994  \n",
       "1           0.310345       0.253945  \n",
       "2           0.000000       0.760402  \n",
       "3           0.344828       0.430416  \n",
       "4           0.413793       0.869440  "
      ]
     },
     "execution_count": 25,
     "metadata": {},
     "output_type": "execute_result"
    }
   ],
   "source": [
    "from sklearn.preprocessing import MinMaxScaler\n",
    "# Initialize MinMaxScaler\n",
    "scaler = MinMaxScaler()\n",
    "# Fit and transform the data\n",
    "attr = pd.DataFrame(scaler.fit_transform(attr), columns=attr.columns)\n",
    "attr.head()"
   ]
  },
  {
   "cell_type": "code",
   "execution_count": 21,
   "metadata": {},
   "outputs": [
    {
     "name": "stdout",
     "output_type": "stream",
     "text": [
      "Accuracy of model with k = 3: 0.6366666666666667%\n",
      "\n"
     ]
    }
   ],
   "source": [
    "# from sklearn.neighbors import KNeighborsClassifier\n",
    "from sklearn.metrics import accuracy_score\n",
    "k_values = [3]\n",
    "\n",
    "for k in k_values:\n",
    "    knn = KNeighborsClassifier(n_neighbors = k)\n",
    "#     knn = KNeighborsClassifier(n_neighbors = k,weights='distance')\n",
    "    knn.fit(attr_train, target_train)\n",
    "    target_pred = knn.predict(attr_test)\n",
    "#     accuracy = round(np.mean(target_test==target_pred ) * 100, 2)\n",
    "    accuracy = accuracy_score(target_test,target_pred ) \n",
    "    print(f'Accuracy of model with k = {k}: {accuracy}%')\n",
    "    print('')"
   ]
  },
  {
   "cell_type": "code",
   "execution_count": 22,
   "metadata": {},
   "outputs": [
    {
     "name": "stdout",
     "output_type": "stream",
     "text": [
      "Confusion Matrix\n",
      "[[ 55  71]\n",
      " [ 38 136]]\n",
      "\n",
      "Accuracy score\n",
      "0.6366666666666667\n",
      "\n",
      "Classification Report\n",
      "              precision    recall  f1-score   support\n",
      "\n",
      "           1       0.59      0.44      0.50       126\n",
      "           2       0.66      0.78      0.71       174\n",
      "\n",
      "    accuracy                           0.64       300\n",
      "   macro avg       0.62      0.61      0.61       300\n",
      "weighted avg       0.63      0.64      0.63       300\n",
      "\n"
     ]
    }
   ],
   "source": [
    "from sklearn.metrics import accuracy_score\n",
    "from sklearn.metrics import classification_report\n",
    "from sklearn.metrics import confusion_matrix\n",
    "\n",
    "cm=confusion_matrix(target_test, target_pred)\n",
    "\n",
    "print('Confusion Matrix')\n",
    "print(confusion_matrix(target_test, target_pred))\n",
    "print()\n",
    "print('Accuracy score')\n",
    "print(accuracy_score(target_test, target_pred))\n",
    "print()\n",
    "print('Classification Report')\n",
    "print(classification_report(target_test, target_pred))"
   ]
  },
  {
   "cell_type": "markdown",
   "metadata": {},
   "source": [
    "\n",
    "This matrix represents the model's predictions. The rows correspond to the actual classes, while the columns represent the predicted classes. Here's the breakdown:\n",
    "\n",
    "- **True Positives (TP)**: 136 (class 2 predicted as class 2)\n",
    "- **True Negatives (TN)**: 55 (class 1 predicted as class 1)\n",
    "- **False Positives (FP)**: 71 (class 1 predicted as class 2)\n",
    "- **False Negatives (FN)**: 38 (class 2 predicted as class 1)\n",
    "\n",
    "## Accuracy Score\n",
    "\n",
    "The accuracy score of the model is **0.6367** or 63.67%, indicating that the model correctly predicted the engagement level in 63.67% of cases.\n",
    "\n",
    "## Classification Report\n",
    "\n",
    "The classification report provides detailed metrics for each class:\n",
    "\n",
    "### Class 1 Performance:\n",
    "- **Precision**: 0.59, meaning that when the model predicts class 1, it is correct 59% of the time.\n",
    "- **Recall**: 0.44, indicating that the model correctly identifies 44% of the actual class 1 instances.\n",
    "- **F1-Score**: 0.50, representing a balance between precision and recall for class 1.\n",
    "\n",
    "### Class 2 Performance:\n",
    "- **Precision**: 0.66, meaning that when the model predicts class 2, it is correct 66% of the time.\n",
    "- **Recall**: 0.78, showing that the model identifies 78% of the actual class 2 instances.\n",
    "- **F1-Score**: 0.71, indicating a strong balance between precision and recall for class 2.\n",
    "\n",
    "### Overall Model Performance:\n",
    "- **Accuracy**: 0.64, meaning the model has an overall accuracy of 64% across both classes.\n",
    "- **Macro Average**: The average of precision, recall, and F1-score across both classes:\n",
    "  - Precision: 0.62\n",
    "  - Recall: 0.61\n",
    "  - F1-Score: 0.61\n",
    "- **Weighted Average**: The weighted average of precision, recall, and F1-score, considering the support of each class:\n",
    "  - Precision: 0.63\n",
    "  - Recall: 0.64\n",
    "  - F1-Score: 0.63\n"
   ]
  },
  {
   "cell_type": "code",
   "execution_count": 23,
   "metadata": {},
   "outputs": [
    {
     "data": {
      "text/plain": [
       "[Text(0, 0.5, 'M'), Text(0, 1.5, 'B')]"
      ]
     },
     "execution_count": 23,
     "metadata": {},
     "output_type": "execute_result"
    },
    {
     "data": {
      "image/png": "[encoded data removed]",
      "text/plain": [
       "<Figure size 640x480 with 2 Axes>"
      ]
     },
     "metadata": {},
     "output_type": "display_data"
    }
   ],
   "source": [
    "import seaborn as sns\n",
    "import matplotlib.pyplot as plt     \n",
    "\n",
    "ax= plt.subplot()\n",
    "sns.heatmap(cm, annot=True, fmt='g', ax=ax);  #annot=True to annotate cells, ftm='g' to disable scientific notation\n",
    "\n",
    "# labels, title and ticks\n",
    "ax.set_xlabel('Predicted labels');ax.set_ylabel('True labels'); \n",
    "ax.set_title('Confusion Matrix'); \n",
    "ax.xaxis.set_ticklabels(['M', 'B'])\n",
    "ax.yaxis.set_ticklabels(['M', 'B'])"
   ]
  },
  {
   "cell_type": "markdown",
   "metadata": {},
   "source": []
  },
  {
   "cell_type": "code",
   "execution_count": null,
   "metadata": {},
   "outputs": [],
   "source": []
  }
 ],
 "metadata": {
  "kernelspec": {
   "display_name": "tensorflow",
   "language": "python",
   "name": "python3"
  },
  "language_info": {
   "codemirror_mode": {
    "name": "ipython",
    "version": 3
   },
   "file_extension": ".py",
   "mimetype": "text/x-python",
   "name": "python",
   "nbconvert_exporter": "python",
   "pygments_lexer": "ipython3",
   "version": "3.9.20"
  }
 },
 "nbformat": 4,
 "nbformat_minor": 2
}
