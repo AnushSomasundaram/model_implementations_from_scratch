{
  "nbformat": 4,
  "nbformat_minor": 0,
  "metadata": {
    "colab": {
      "provenance": []
    },
    "kernelspec": {
      "name": "python3",
      "display_name": "Python 3"
    },
    "language_info": {
      "name": "python"
    }
  },
  "cells": [
    {
      "cell_type": "markdown",
      "source": [
        "#SVM Model Implementation"
      ],
      "metadata": {
        "id": "E5oehqca5UiZ"
      }
    },
    {
      "cell_type": "markdown",
      "source": [
        "## **Introduction to SVM Implementation**\n",
        "\n",
        "This notebook demonstrates the implementation of **Support Vector Machines (SVM)** using **GridSearchCV** for hyperparameter tuning. SVM is a robust supervised learning algorithm, known for handling high-dimensional datasets and delivering clear decision boundaries. Our goal is to predict the target variable **EngagementLevel** using SVM and optimize its performance through systematic hyperparameter tuning.\n",
        "\n",
        "---\n",
        "\n",
        "## **Workflow**\n",
        "\n",
        "### **1. Data Preprocessing**\n",
        "- Handle missing values and ensure data integrity.\n",
        "- Normalize features to standardize scale for SVM.\n",
        "- Split data into training and testing sets.\n",
        "\n",
        "### **2. SVM Model Implementation**\n",
        "- Define and build the SVM model.\n",
        "- Set up a **parameter grid** for tuning hyperparameters like:\n",
        "  - Regularization strength (\\( C \\)).\n",
        "  - Kernel type (e.g., linear, RBF, polynomial).\n",
        "  - Kernel-specific parameters (e.g., gamma, degree).\n",
        "\n",
        "### **3. GridSearchCV Execution**\n",
        "- Perform k-fold cross-validation for robust evaluation.\n",
        "- Identify the best hyperparameters systematically.\n",
        "\n",
        "### **4. Model Evaluation**\n",
        "- Assess the best model's performance using:\n",
        "  - Accuracy.\n",
        "  - Classification report (precision, recall, F1-score).\n",
        "  - Confusion matrix visualization.\n",
        "\n",
        "### **5. Analysis and Discussion**\n",
        "- Interpret results, highlight successes, and address limitations.\n",
        "\n",
        "---\n",
        "\n",
        "## **Why Use SVM?**\n",
        "SVM is highly effective for:\n",
        "1. **High-Dimensional Data**: Works well when the number of features exceeds the number of samples.\n",
        "2. **Clear Decision Boundaries**: Maximizes the margin for robust classification.\n",
        "3. **Flexible Kernels**: Handles non-linear relationships using kernel functions.\n",
        "\n",
        "---\n",
        "\n",
        "## **Why Use GridSearchCV with SVM?**\n",
        "GridSearchCV automates the search for the best hyperparameters, ensuring:\n",
        "- **Optimal Hyperparameter Selection**: Finds the ideal values for \\( C \\), kernel type, gamma, and degree.\n",
        "- **Cross-Validation**: Reduces overfitting and enhances generalization.\n",
        "- **Comprehensive Search**: Systematically evaluates all parameter combinations.\n",
        "- **Improved Performance**: Balances underfitting and overfitting for better results on unseen data.\n",
        "\n",
        "---\n",
        "\n",
        "## **Expected Outcomes**\n",
        "- An optimized SVM model tailored to the dataset.\n",
        "- Detailed metrics and visualizations, including accuracy, classification report, and confusion matrix.\n",
        "- Insights into model performance and areas for improvement."
      ],
      "metadata": {
        "id": "aTL9ODgeiDyM"
      }
    },
    {
      "cell_type": "markdown",
      "source": [
        "## 1)  Import Libraries and Packages"
      ],
      "metadata": {
        "id": "4HGXGkslbJqS"
      }
    },
    {
      "cell_type": "code",
      "execution_count": null,
      "metadata": {
        "id": "UqxaDyFp42HH"
      },
      "outputs": [],
      "source": [
        "import pandas as pd\n",
        "import seaborn as sns\n",
        "import matplotlib.pyplot as plt\n",
        "from sklearn.model_selection import train_test_split\n",
        "from sklearn.preprocessing import StandardScaler\n",
        "from sklearn.svm import SVC\n",
        "from sklearn.model_selection import GridSearchCV\n",
        "from sklearn.metrics import confusion_matrix, classification_report, accuracy_score, ConfusionMatrixDisplay"
      ]
    },
    {
      "cell_type": "markdown",
      "source": [
        "##2) Load the dataset"
      ],
      "metadata": {
        "id": "mt4w-74pcg4z"
      }
    },
    {
      "cell_type": "code",
      "source": [
        "filename = r'/content/SVM_Dataset.csv'\n",
        "dataframe = pd.read_csv(filename)\n",
        "dataframe.info()"
      ],
      "metadata": {
        "id": "iyFHddCx5W1u",
        "colab": {
          "base_uri": "https://localhost:8080/"
        },
        "outputId": "76238978-9312-43b5-8ca9-1140b6513f96"
      },
      "execution_count": null,
      "outputs": [
        {
          "output_type": "stream",
          "name": "stdout",
          "text": [
            "<class 'pandas.core.frame.DataFrame'>\n",
            "RangeIndex: 1000 entries, 0 to 999\n",
            "Data columns (total 19 columns):\n",
            " #   Column                Non-Null Count  Dtype  \n",
            "---  ------                --------------  -----  \n",
            " 0   HeartRate             1000 non-null   int64  \n",
            " 1   SkinConductance       1000 non-null   float64\n",
            " 2   EEG                   1000 non-null   float64\n",
            " 3   Temperature           1000 non-null   float64\n",
            " 4   PupilDiameter         1000 non-null   float64\n",
            " 5   SmileIntensity        1000 non-null   float64\n",
            " 6   FrownIntensity        1000 non-null   float64\n",
            " 7   CortisolLevel         1000 non-null   float64\n",
            " 8   ActivityLevel         1000 non-null   int64  \n",
            " 9   AmbientNoiseLevel     1000 non-null   int64  \n",
            " 10  LightingLevel         1000 non-null   int64  \n",
            " 11  EmotionalState        1000 non-null   object \n",
            " 12  ES_disengaged         1000 non-null   int64  \n",
            " 13  ES_engaged            1000 non-null   int64  \n",
            " 14  ES_partially engaged  1000 non-null   int64  \n",
            " 15  CognitiveState        1000 non-null   object \n",
            " 16  CS_distracted         1000 non-null   int64  \n",
            " 17  CS_focused            1000 non-null   int64  \n",
            " 18  EngagementLevel       1000 non-null   int64  \n",
            "dtypes: float64(7), int64(10), object(2)\n",
            "memory usage: 148.6+ KB\n"
          ]
        }
      ]
    },
    {
      "cell_type": "markdown",
      "source": [
        "##3) Define Features and Target"
      ],
      "metadata": {
        "id": "G31FyyOwdRlH"
      }
    },
    {
      "cell_type": "code",
      "source": [
        "features = dataframe.drop(columns=['EngagementLevel','EmotionalState','CognitiveState'])\n",
        "target = dataframe['EngagementLevel']"
      ],
      "metadata": {
        "id": "9vgifnngc814"
      },
      "execution_count": null,
      "outputs": []
    },
    {
      "cell_type": "markdown",
      "source": [
        "##4) Normalizing the Features"
      ],
      "metadata": {
        "id": "ut9NWROQd4WH"
      }
    },
    {
      "cell_type": "code",
      "source": [
        "scaler = StandardScaler()\n",
        "scaled_features = scaler.fit_transform(features)\n",
        "# Convert scaled_features back to a DataFrame with original numerical column names\n",
        "scaled_features_df = pd.DataFrame(scaled_features, columns=features.columns)"
      ],
      "metadata": {
        "id": "dNI1PyDFdXxU"
      },
      "execution_count": null,
      "outputs": []
    },
    {
      "cell_type": "markdown",
      "source": [
        "##5) Creating the Test-Train Split"
      ],
      "metadata": {
        "id": "8agjoM18eGwf"
      }
    },
    {
      "cell_type": "code",
      "source": [
        "features_train, features_test, target_train, target_test = train_test_split(scaled_features_df, target, test_size=0.3)"
      ],
      "metadata": {
        "id": "844VQAucePpx"
      },
      "execution_count": null,
      "outputs": []
    },
    {
      "cell_type": "code",
      "source": [
        "features_train.shape, features_test.shape"
      ],
      "metadata": {
        "colab": {
          "base_uri": "https://localhost:8080/"
        },
        "id": "c-npSm1yei5P",
        "outputId": "0e2a3717-b54d-4882-b921-cd3bbe310125"
      },
      "execution_count": null,
      "outputs": [
        {
          "output_type": "execute_result",
          "data": {
            "text/plain": [
              "((700, 16), (300, 16))"
            ]
          },
          "metadata": {},
          "execution_count": 13
        }
      ]
    },
    {
      "cell_type": "code",
      "source": [
        "features_train.info()"
      ],
      "metadata": {
        "colab": {
          "base_uri": "https://localhost:8080/"
        },
        "id": "s6sp49pbelFg",
        "outputId": "d2fa6e58-9804-445c-bbd8-596fd2651619"
      },
      "execution_count": null,
      "outputs": [
        {
          "output_type": "stream",
          "name": "stdout",
          "text": [
            "<class 'pandas.core.frame.DataFrame'>\n",
            "Index: 700 entries, 180 to 543\n",
            "Data columns (total 16 columns):\n",
            " #   Column                Non-Null Count  Dtype  \n",
            "---  ------                --------------  -----  \n",
            " 0   HeartRate             700 non-null    float64\n",
            " 1   SkinConductance       700 non-null    float64\n",
            " 2   EEG                   700 non-null    float64\n",
            " 3   Temperature           700 non-null    float64\n",
            " 4   PupilDiameter         700 non-null    float64\n",
            " 5   SmileIntensity        700 non-null    float64\n",
            " 6   FrownIntensity        700 non-null    float64\n",
            " 7   CortisolLevel         700 non-null    float64\n",
            " 8   ActivityLevel         700 non-null    float64\n",
            " 9   AmbientNoiseLevel     700 non-null    float64\n",
            " 10  LightingLevel         700 non-null    float64\n",
            " 11  ES_disengaged         700 non-null    float64\n",
            " 12  ES_engaged            700 non-null    float64\n",
            " 13  ES_partially engaged  700 non-null    float64\n",
            " 14  CS_distracted         700 non-null    float64\n",
            " 15  CS_focused            700 non-null    float64\n",
            "dtypes: float64(16)\n",
            "memory usage: 93.0 KB\n"
          ]
        }
      ]
    },
    {
      "cell_type": "code",
      "source": [
        "target_train.info()"
      ],
      "metadata": {
        "colab": {
          "base_uri": "https://localhost:8080/"
        },
        "id": "x3fPtWThenY3",
        "outputId": "903b82c1-86ec-4230-df27-9bc8b38aa40f"
      },
      "execution_count": null,
      "outputs": [
        {
          "output_type": "stream",
          "name": "stdout",
          "text": [
            "<class 'pandas.core.series.Series'>\n",
            "Index: 700 entries, 520 to 10\n",
            "Series name: EngagementLevel\n",
            "Non-Null Count  Dtype\n",
            "--------------  -----\n",
            "700 non-null    int64\n",
            "dtypes: int64(1)\n",
            "memory usage: 10.9 KB\n"
          ]
        }
      ]
    },
    {
      "cell_type": "markdown",
      "source": [
        "## 6) Defining the Parameter Grid\n",
        "\n"
      ],
      "metadata": {
        "id": "VSRxeKsifiTk"
      }
    },
    {
      "cell_type": "code",
      "source": [
        "# Define the parameter grid\n",
        "param_grid = {\n",
        "    'C': [0.1, 1, 10, 100],\n",
        "    'kernel': ['linear', 'rbf', 'poly', 'sigmoid'],\n",
        "    'gamma': ['scale', 'auto'],\n",
        "    'degree': [2, 3, 4]  # Only applicable for 'poly' kernel\n",
        "}"
      ],
      "metadata": {
        "id": "kmSbiPYnerO0"
      },
      "execution_count": null,
      "outputs": []
    },
    {
      "cell_type": "markdown",
      "source": [
        "##7) Set-Up and Train GridSearchCV"
      ],
      "metadata": {
        "id": "pe5cbKcTfz5f"
      }
    },
    {
      "cell_type": "code",
      "source": [
        "# Create the model\n",
        "svm = SVC()\n",
        "\n",
        "# Create the GridSearchCV object\n",
        "grid_search = GridSearchCV(svm, param_grid, cv=10, scoring='accuracy', n_jobs=-1, verbose=1)\n",
        "\n",
        "# Fit the model to the training data\n",
        "grid_search.fit(features_train, target_train)\n",
        "\n",
        "# Retrieve the best parameters and score\n",
        "best_params = grid_search.best_params_\n",
        "best_score = grid_search.best_score_\n",
        "print(\"Best Parameters:\", best_params)\n",
        "print(\"Best Cross-Validation Score:\", best_score)"
      ],
      "metadata": {
        "colab": {
          "base_uri": "https://localhost:8080/"
        },
        "id": "cZaAzUwRf9Bd",
        "outputId": "cb035208-1453-42d5-c94d-c6bdd922a7a9"
      },
      "execution_count": null,
      "outputs": [
        {
          "output_type": "stream",
          "name": "stdout",
          "text": [
            "Fitting 10 folds for each of 96 candidates, totalling 960 fits\n",
            "Best Parameters: {'C': 100, 'degree': 2, 'gamma': 'scale', 'kernel': 'poly'}\n",
            "Best Cross-Validation Score: 0.9257142857142858\n"
          ]
        }
      ]
    },
    {
      "cell_type": "markdown",
      "source": [
        "##8) Computing the Best Model"
      ],
      "metadata": {
        "id": "T3sEiI36groE"
      }
    },
    {
      "cell_type": "code",
      "source": [
        "# Evaluate the best model on the test set\n",
        "best_model = grid_search.best_estimator_\n",
        "test_score = best_model.score(features_test, target_test)\n",
        "print(\"Test Accuracy:\", test_score)"
      ],
      "metadata": {
        "colab": {
          "base_uri": "https://localhost:8080/"
        },
        "id": "G2R2GczngzKt",
        "outputId": "d75c5874-50be-4804-e412-27021062a3c4"
      },
      "execution_count": null,
      "outputs": [
        {
          "output_type": "stream",
          "name": "stdout",
          "text": [
            "Test Accuracy: 0.9566666666666667\n"
          ]
        }
      ]
    },
    {
      "cell_type": "markdown",
      "source": [
        "##9) Detailed Evaluation"
      ],
      "metadata": {
        "id": "FXuubEhVhAip"
      }
    },
    {
      "cell_type": "code",
      "source": [
        "# Predict the target variable for the test set\n",
        "target_pred = best_model.predict(features_test)\n",
        "\n",
        "# Generate the accuracy\n",
        "accuracy = accuracy_score(target_test, target_pred)\n",
        "print(f\"Accuracy: {accuracy}\")\n",
        "\n",
        "# Generate the confusion matrix\n",
        "cm = confusion_matrix(target_test, target_pred)\n",
        "print(f\"Confusion Matrix:\\n{cm}\")\n",
        "\n",
        "# Display the confusion matrix with labels\n",
        "cmd = ConfusionMatrixDisplay(confusion_matrix=cm, display_labels=best_model.classes_)\n",
        "cmd.plot()\n",
        "plt.show()\n",
        "\n",
        "# Generate the classification report\n",
        "cr = classification_report(target_test, target_pred)\n",
        "print(f\"Classification Report:\\n{cr}\")"
      ],
      "metadata": {
        "colab": {
          "base_uri": "https://localhost:8080/",
          "height": 703
        },
        "id": "nbh-5IrUhGas",
        "outputId": "646f3b71-894a-421d-a4e0-93675a8c761d"
      },
      "execution_count": null,
      "outputs": [
        {
          "output_type": "stream",
          "name": "stdout",
          "text": [
            "Accuracy: 0.9566666666666667\n",
            "Confusion Matrix:\n",
            "[[130   7]\n",
            " [  6 157]]\n"
          ]
        },
        {
          "output_type": "display_data",
          "data": {
            "text/plain": [
              "<Figure size 640x480 with 2 Axes>"
            ],
            "image/png": "[encoded data removed]"
          },
          "metadata": {}
        },
        {
          "output_type": "stream",
          "name": "stdout",
          "text": [
            "Classification Report:\n",
            "              precision    recall  f1-score   support\n",
            "\n",
            "           1       0.96      0.95      0.95       137\n",
            "           2       0.96      0.96      0.96       163\n",
            "\n",
            "    accuracy                           0.96       300\n",
            "   macro avg       0.96      0.96      0.96       300\n",
            "weighted avg       0.96      0.96      0.96       300\n",
            "\n"
          ]
        }
      ]
    },
    {
      "cell_type": "markdown",
      "source": [
        "#Notebook Conclusion\n",
        "\n",
        "In this notebook, we successfully implemented and optimized a **Support Vector Machine (SVM)** model to predict the target variable, **EngagementLevel**, using a comprehensive dataset. Through rigorous preprocessing, systematic hyperparameter tuning via **GridSearchCV**, and thorough evaluation, the SVM demonstrated its robustness and high predictive accuracy.\n",
        "\n",
        "---\n",
        "\n",
        "## **Key Findings**\n",
        "1. **Model Performance**:\n",
        "   - Test set accuracy: **95.67%**.\n",
        "   - Weighted average metrics:\n",
        "     - **Precision**: 96%\n",
        "     - **Recall**: 95.5%\n",
        "     - **F1-Score**: 95.5%.\n",
        "   - Confusion matrix analysis revealed high true positive rates with minimal misclassifications.\n",
        "\n",
        "2. **Hyperparameter Optimization**:\n",
        "   - Best configuration:\n",
        "     - **Kernel**: Poly.\n",
        "     - **C (Regularization)**: 100.\n",
        "     - **Gamma**: Scale.\n",
        "   - GridSearchCV evaluated **96 configurations** across 10-fold cross-validation, achieving a strong balance between performance and model complexity.\n",
        "\n",
        "3. **Insights on SVM**:\n",
        "   - The Poly kernel captured non-linear relationships effectively, outperforming other kernels.\n",
        "   - Cross-validation ensured robust generalization, with balanced performance across all classes.\n",
        "\n",
        "---\n",
        "\n",
        "## **Recommendations**\n",
        "1. **Feature Engineering**:\n",
        "   - Explore additional domain-specific features and feature selection techniques to further enhance performance and efficiency.\n",
        "2. **Kernel Exploration**:\n",
        "   - Investigate custom kernels tailored to specific data structures for potential gains.\n",
        "3. **Explainability**:\n",
        "   - Employ tools like **LIME** or **SHAP** to improve model interpretability and provide insights into feature importance.\n",
        "4. **Scalability**:\n",
        "   - For larger datasets, consider linear approximations or distributed frameworks to optimize training efficiency.\n",
        "\n",
        "---\n",
        "\n",
        "## **Summary**\n",
        "This project highlighted the strengths of SVM in handling high-dimensional data and capturing non-linear relationships with precision and robustness. The model achieved high accuracy and balanced performance metrics, showcasing its suitability for tasks requiring both reliability and flexibility. Future efforts should focus on advanced kernel techniques, feature optimization, and improving scalability to further enhance its applicability."
      ],
      "metadata": {
        "id": "wiA1C7ILhOzs"
      }
    }
  ]
}