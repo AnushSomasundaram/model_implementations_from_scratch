{
 "cells": [
  {
   "cell_type": "markdown",
   "metadata": {
    "id": "DXsAvK5s5N8i"
   },
   "source": [
    "# ANN Model Implementation"
   ]
  },
  {
   "cell_type": "markdown",
   "metadata": {
    "id": "FG4XnVti58h8"
   },
   "source": [
    "## ANN(Artificial Neural Networks) for Stress Detection and Management\n",
    "\n",
    "---\n",
    "\n",
    "\n",
    "\n",
    "---\n",
    "\n",
    "## ANN Model\n",
    "\n",
    "Artificial Neural Networks (ANN) are inspired by the structure and functioning of the human brain, consisting of layers of interconnected nodes (neurons). ANNs excel at capturing complex, non-linear relationships in data by learning hierarchical patterns through multiple layers of computation. Each layer extracts increasingly abstract features from the data, enabling powerful predictions.\n",
    "\n",
    "ANN is renowned for its versatility, making it an excellent choice for tasks such as image recognition, natural language processing, and time series forecasting. Its ability to automatically learn features and adapt to various types of data makes it a cornerstone of modern machine learning.\n",
    "\n",
    "\n",
    "---\n",
    "\n",
    "\n",
    "This notebook demonstrates the implementation of an **Artificial Neural Network** (**ANN**) using GridSearchCV for hyperparameter tuning. The objective is to predict the target variable EngagementLevel based on the features in the provided dataset.\n",
    "\n",
    "The process will follow these steps:\n",
    "\n",
    "1. **Data Preprocessing:**\n",
    "  - Handle missing values, if any.\n",
    "  - Normalize and encode features.\n",
    "  - Split data into training and testing sets.\n",
    "2. **ANN Model Implementation:**\n",
    "  - Build the neural network using Keras.**\n",
    "  - Define a wrapper function to integrate it with GridSearchCV.\n",
    "  - Define the parameter grid for tuning.\n",
    "3. **GridSearchCV Execution:**\n",
    "  - Train the ANN model with cross-validation.\n",
    "  - Identify the best hyperparameters.\n",
    "4. **Model Evaluation:**\n",
    "  - Evaluate the model's performance on the test set.\n",
    "  - Discuss results and observations.\n",
    "\n",
    "## Why use GridSearchCV with ANN?\n",
    "\n",
    "**GridSearchCV** improves the performance and generalization of an Artificial Neural Network (ANN) by systematically tuning its hyperparameters, which are critical settings that directly impact the network's performance. Here's how it works and why it is effective:\n",
    "\n",
    "###1. Optimal Hyperparameter Selection\n",
    "  ANNs have many hyperparameters that influence their performance, such as:\n",
    "  - Architecture Parameters:\n",
    "    - Number of hidden layers and neurons per layer.\n",
    "  - Activation Functions:\n",
    "    - Choice of functions (e.g., ReLU, tanh) affects how information flows through the network.\n",
    "  - Optimizer:\n",
    "    - Algorithms like SGD, Adam, etc., control how the model learns.\n",
    "  - Learning Rate:\n",
    "    - Determines the step size during optimization.\n",
    "  - Regularization Parameters:\n",
    "    - Techniques like dropout or L2 regularization reduce overfitting.\n",
    "  - Epochs and Batch Size:\n",
    "    - Affect training duration and convergence.\n",
    "\n",
    "**Problem:** Manually trying combinations is tedious and prone to error\n",
    "\n",
    "**Solution:** GridSearchCV automates this by evaluating all possible combinations of these hyperparameters over a defined grid and selecting the one that produces the best performance.\n",
    "\n",
    "---\n",
    "\n",
    "### 2. Systematic Cross-Validation\n",
    "\n",
    "GridSearchCV incorporates k-fold cross-validation, splitting the dataset into training and validation sets multiple times:\n",
    "\n",
    "- Why Cross-Validation Matters:\n",
    "  - Reduces the risk of overfitting to a specific train-test split.\n",
    "  - Ensures that the selected hyperparameters generalize well to unseen data.\n",
    "\n",
    "By averaging the performance across all folds, GridSearchCV finds hyperparameters that perform consistently across subsets of the data.\n",
    "\n",
    "---\n",
    "\n",
    "### 3. Comprehensive Search\n",
    "GridSearchCV performs an exhaustive search:\n",
    "\n",
    "- Effectiveness:\n",
    "  - Ensures that no possible combination of hyperparameters within the grid is overlooked.\n",
    "  - If your grid is well-designed, it guarantees finding the optimal settings within the defined space.\n",
    "  \n",
    "For example, a grid for an ANN might include:\n",
    "\n",
    "hidden_layer_sizes: [(50,), (100,), (50, 50)]\n",
    "\n",
    "activation: ['relu', 'tanh']\n",
    "\n",
    "learning_rate: ['constant', 'adaptive']\n",
    "\n",
    "It tests all combinations (e.g., 3 × 2 × 2 = 12 models) and picks the best.\n",
    "\n",
    "---\n",
    "\n",
    "### 4. Improved Model Performance\n",
    "By finding the best configuration, GridSearchCV can:\n",
    "\n",
    "- Increase accuracy or minimize loss on both training and testing data.\n",
    "- Help balance the trade-off between bias and variance.\n",
    "  - Avoid underfitting (bias) by ensuring the model is sufficiently complex.\n",
    "  - Avoid overfitting (variance) by selecting proper regularization and architecture.\n",
    "\n",
    "---\n",
    "\n",
    "### 5. Standardized Process\n",
    "GridSearchCV provides:\n",
    "\n",
    "- A systematic and reproducible method for hyperparameter tuning.\n",
    "- Confidence in the model's performance since the best parameters are selected based on a robust search process.\n"
   ]
  },
  {
   "cell_type": "markdown",
   "metadata": {
    "id": "WHlO3cKf7o0q"
   },
   "source": [
    "## 1)  Import Libraries and Packages"
   ]
  },
  {
   "cell_type": "code",
   "execution_count": null,
   "metadata": {
    "id": "Iz7MyLNr4yt-"
   },
   "outputs": [],
   "source": [
    "import pandas as pd\n",
    "import seaborn as sns\n",
    "import matplotlib.pyplot as plt\n",
    "from sklearn.model_selection import train_test_split\n",
    "from sklearn.preprocessing import StandardScaler\n",
    "from sklearn.neural_network import MLPClassifier\n",
    "from sklearn.model_selection import GridSearchCV\n",
    "from sklearn.metrics import confusion_matrix, classification_report, accuracy_score, ConfusionMatrixDisplay"
   ]
  },
  {
   "cell_type": "markdown",
   "metadata": {
    "id": "6sKZSanP8X0q"
   },
   "source": [
    "## 2) Load the Dataset"
   ]
  },
  {
   "cell_type": "code",
   "execution_count": null,
   "metadata": {
    "colab": {
     "base_uri": "https://localhost:8080/"
    },
    "id": "tAwT4e-R8XBm",
    "outputId": "a9b8712f-7d9a-463f-b177-8a88d5f5bf81"
   },
   "outputs": [
    {
     "name": "stdout",
     "output_type": "stream",
     "text": [
      "<class 'pandas.core.frame.DataFrame'>\n",
      "RangeIndex: 1000 entries, 0 to 999\n",
      "Data columns (total 19 columns):\n",
      " #   Column                Non-Null Count  Dtype  \n",
      "---  ------                --------------  -----  \n",
      " 0   HeartRate             1000 non-null   int64  \n",
      " 1   SkinConductance       1000 non-null   float64\n",
      " 2   EEG                   1000 non-null   float64\n",
      " 3   Temperature           1000 non-null   float64\n",
      " 4   PupilDiameter         1000 non-null   float64\n",
      " 5   SmileIntensity        1000 non-null   float64\n",
      " 6   FrownIntensity        1000 non-null   float64\n",
      " 7   CortisolLevel         1000 non-null   float64\n",
      " 8   ActivityLevel         1000 non-null   int64  \n",
      " 9   AmbientNoiseLevel     1000 non-null   int64  \n",
      " 10  LightingLevel         1000 non-null   int64  \n",
      " 11  EmotionalState        1000 non-null   object \n",
      " 12  ES_disengaged         1000 non-null   int64  \n",
      " 13  ES_engaged            1000 non-null   int64  \n",
      " 14  ES_partially engaged  1000 non-null   int64  \n",
      " 15  CognitiveState        1000 non-null   object \n",
      " 16  CS_distracted         1000 non-null   int64  \n",
      " 17  CS_focused            1000 non-null   int64  \n",
      " 18  EngagementLevel       1000 non-null   int64  \n",
      "dtypes: float64(7), int64(10), object(2)\n",
      "memory usage: 148.6+ KB\n",
      "None\n"
     ]
    }
   ],
   "source": [
    "filename = r'/content/ANN_Dataset.csv'\n",
    "data_frame = pd.read_csv(filename)\n",
    "print(data_frame.info())"
   ]
  },
  {
   "cell_type": "markdown",
   "metadata": {
    "id": "-qPxo3ar-GrY"
   },
   "source": [
    "## 3) Normalizing the features with StandardScaler"
   ]
  },
  {
   "cell_type": "code",
   "execution_count": null,
   "metadata": {
    "id": "bcIqMXox9IYo"
   },
   "outputs": [],
   "source": [
    "features = data_frame.drop(['EngagementLevel','EmotionalState','CognitiveState'], axis=1)\n",
    "target = data_frame['EngagementLevel']\n",
    "scaler = StandardScaler()\n",
    "# Fit and transform only the numerical features\n",
    "scaled_features = scaler.fit_transform(features)\n",
    "\n",
    "# Convert scaled_features back to a DataFrame with original numerical column names\n",
    "scaled_features_df = pd.DataFrame(scaled_features, columns=features.columns)"
   ]
  },
  {
   "cell_type": "markdown",
   "metadata": {
    "id": "qEFDJZ6WAR_6"
   },
   "source": [
    "## 4) Creating the Test-Train split"
   ]
  },
  {
   "cell_type": "code",
   "execution_count": null,
   "metadata": {
    "id": "5xe63t4hAWMX"
   },
   "outputs": [],
   "source": [
    "# Split data into training and testing sets\n",
    "feature_train, feature_test, target_train, target_test = train_test_split(scaled_features_df, target, test_size=0.3)"
   ]
  },
  {
   "cell_type": "code",
   "execution_count": null,
   "metadata": {
    "colab": {
     "base_uri": "https://localhost:8080/"
    },
    "id": "CQ7OHHRaAyTC",
    "outputId": "1aef777a-b1f2-4228-a69c-b85e393071dd"
   },
   "outputs": [
    {
     "name": "stdout",
     "output_type": "stream",
     "text": [
      "<class 'pandas.core.frame.DataFrame'>\n",
      "Index: 700 entries, 270 to 850\n",
      "Data columns (total 16 columns):\n",
      " #   Column                Non-Null Count  Dtype  \n",
      "---  ------                --------------  -----  \n",
      " 0   HeartRate             700 non-null    float64\n",
      " 1   SkinConductance       700 non-null    float64\n",
      " 2   EEG                   700 non-null    float64\n",
      " 3   Temperature           700 non-null    float64\n",
      " 4   PupilDiameter         700 non-null    float64\n",
      " 5   SmileIntensity        700 non-null    float64\n",
      " 6   FrownIntensity        700 non-null    float64\n",
      " 7   CortisolLevel         700 non-null    float64\n",
      " 8   ActivityLevel         700 non-null    float64\n",
      " 9   AmbientNoiseLevel     700 non-null    float64\n",
      " 10  LightingLevel         700 non-null    float64\n",
      " 11  ES_disengaged         700 non-null    float64\n",
      " 12  ES_engaged            700 non-null    float64\n",
      " 13  ES_partially engaged  700 non-null    float64\n",
      " 14  CS_distracted         700 non-null    float64\n",
      " 15  CS_focused            700 non-null    float64\n",
      "dtypes: float64(16)\n",
      "memory usage: 93.0 KB\n"
     ]
    }
   ],
   "source": [
    "feature_train.info()"
   ]
  },
  {
   "cell_type": "code",
   "execution_count": null,
   "metadata": {
    "colab": {
     "base_uri": "https://localhost:8080/"
    },
    "id": "WRTNiTnGA760",
    "outputId": "7cbfe361-caec-46bf-da32-c4c916e46635"
   },
   "outputs": [
    {
     "name": "stdout",
     "output_type": "stream",
     "text": [
      "<class 'pandas.core.series.Series'>\n",
      "Index: 700 entries, 270 to 850\n",
      "Series name: EngagementLevel\n",
      "Non-Null Count  Dtype\n",
      "--------------  -----\n",
      "700 non-null    int64\n",
      "dtypes: int64(1)\n",
      "memory usage: 10.9 KB\n"
     ]
    }
   ],
   "source": [
    "target_train.info()"
   ]
  },
  {
   "cell_type": "markdown",
   "metadata": {
    "id": "WXCOKwAICzLg"
   },
   "source": [
    "## 5) Defining the Parameter Grid\n",
    "\n"
   ]
  },
  {
   "cell_type": "code",
   "execution_count": null,
   "metadata": {
    "id": "g46LAaQwC6zG"
   },
   "outputs": [],
   "source": [
    "param_grid = {\n",
    "    'hidden_layer_sizes': [(50,), (100,), (50, 50)],\n",
    "    'activation': ['tanh', 'relu'],\n",
    "    'solver': ['sgd', 'adam'],\n",
    "    'learning_rate': ['constant', 'adaptive'],\n",
    "    'max_iter': [200, 500, 1000, 1500, 2000, 2500]\n",
    "}"
   ]
  },
  {
   "cell_type": "markdown",
   "metadata": {
    "id": "4boFNHgQDFmx"
   },
   "source": [
    "## 6) Set-Up and Train **GridSearchCV**"
   ]
  },
  {
   "cell_type": "code",
   "execution_count": null,
   "metadata": {
    "colab": {
     "base_uri": "https://localhost:8080/"
    },
    "id": "zbdNGhckDMS9",
    "outputId": "7b00c699-c7b2-447c-bf7d-fe6566dc9c39"
   },
   "outputs": [
    {
     "name": "stdout",
     "output_type": "stream",
     "text": [
      "Fitting 5 folds for each of 144 candidates, totalling 720 fits\n",
      "Best Parameters: {'activation': 'tanh', 'hidden_layer_sizes': (50, 50), 'learning_rate': 'constant', 'max_iter': 1000, 'solver': 'adam'}\n",
      "Best Cross-Validation Score: 0.9542857142857143\n"
     ]
    }
   ],
   "source": [
    "# Create the model\n",
    "mlp = MLPClassifier()\n",
    "\n",
    "# Configure GridSearchCV\n",
    "grid_search = GridSearchCV(estimator=mlp, param_grid=param_grid, cv=5, scoring='accuracy', n_jobs=-1, verbose=1)\n",
    "\n",
    "# Train the model\n",
    "grid_search.fit(feature_train, target_train)\n",
    "\n",
    "# Retrieve the best parameters and score\n",
    "best_params = grid_search.best_params_\n",
    "best_score = grid_search.best_score_\n",
    "print(\"Best Parameters:\", best_params)\n",
    "print(\"Best Cross-Validation Score:\", best_score)\n"
   ]
  },
  {
   "cell_type": "markdown",
   "metadata": {
    "id": "haPpAFtcFn9g"
   },
   "source": [
    "## 7) Generating the Best model"
   ]
  },
  {
   "cell_type": "code",
   "execution_count": null,
   "metadata": {
    "colab": {
     "base_uri": "https://localhost:8080/"
    },
    "id": "6UBW6IplDqCf",
    "outputId": "5d038622-3ac2-416b-d35e-1513af7c8381"
   },
   "outputs": [
    {
     "name": "stdout",
     "output_type": "stream",
     "text": [
      "Test Accuracy: 0.9633333333333334\n"
     ]
    }
   ],
   "source": [
    "# Evaluate the best model on the test set\n",
    "best_model = grid_search.best_estimator_\n",
    "test_score = best_model.score(feature_test, target_test)\n",
    "print(\"Test Accuracy:\", test_score)"
   ]
  },
  {
   "cell_type": "markdown",
   "metadata": {
    "id": "3ppwedfOGJlE"
   },
   "source": [
    "## 8) Detailed Evaluation"
   ]
  },
  {
   "cell_type": "code",
   "execution_count": null,
   "metadata": {
    "colab": {
     "base_uri": "https://localhost:8080/",
     "height": 703
    },
    "id": "1mwgcO2pDmie",
    "outputId": "1790cea7-3f07-421b-dca0-e42c7c8a1995"
   },
   "outputs": [
    {
     "name": "stdout",
     "output_type": "stream",
     "text": [
      "Accuracy: 0.9633333333333334\n",
      "Confusion Matrix:\n",
      "[[118   8]\n",
      " [  3 171]]\n"
     ]
    },
    {
     "data": {
      "image/png": "[encoded data removed]",
      "text/plain": [
       "<Figure size 640x480 with 2 Axes>"
      ]
     },
     "metadata": {},
     "output_type": "display_data"
    },
    {
     "name": "stdout",
     "output_type": "stream",
     "text": [
      "Classification Report:\n",
      "              precision    recall  f1-score   support\n",
      "\n",
      "           1       0.98      0.94      0.96       126\n",
      "           2       0.96      0.98      0.97       174\n",
      "\n",
      "    accuracy                           0.96       300\n",
      "   macro avg       0.97      0.96      0.96       300\n",
      "weighted avg       0.96      0.96      0.96       300\n",
      "\n"
     ]
    }
   ],
   "source": [
    "# Predict the target variable for the test set\n",
    "target_pred = best_model.predict(feature_test)\n",
    "\n",
    "# Generate the accuracy\n",
    "accuracy = accuracy_score(target_test, target_pred)\n",
    "print(f\"Accuracy: {accuracy}\")\n",
    "\n",
    "# Generate the confusion matrix\n",
    "cm = confusion_matrix(target_test, target_pred)\n",
    "print(f\"Confusion Matrix:\\n{cm}\")\n",
    "\n",
    "# Display the confusion matrix with labels\n",
    "cmd = ConfusionMatrixDisplay(confusion_matrix=cm, display_labels=best_model.classes_)\n",
    "cmd.plot()\n",
    "plt.show()\n",
    "\n",
    "# Generate the classification report\n",
    "cr = classification_report(target_test, target_pred)\n",
    "print(f\"Classification Report:\\n{cr}\")"
   ]
  },
  {
   "cell_type": "markdown",
   "metadata": {
    "id": "kasibmGnHARO"
   },
   "source": [
    "\n",
    "# Notebook Conclusion\n",
    "\n",
    "This notebook details the implementation and evaluation of an Artificial Neural Network (ANN) model for predicting 'EngagementLevel' based on a provided dataset.  The process encompassed data preprocessing, model training with hyperparameter tuning via GridSearchCV, and comprehensive performance evaluation.\n",
    "\n",
    "## Key Steps and Findings:\n",
    "\n",
    "1. **Data Preparation:** The dataset was loaded and preprocessed.  Numerical features were normalized using `StandardScaler` to improve model performance.  The data was then split into training and testing sets (70/30 split).\n",
    "\n",
    "2. **Model Training (GridSearchCV):** An `MLPClassifier` (ANN) was employed.  `GridSearchCV` systematically explored a defined parameter grid, encompassing variations in hidden layer sizes, activation functions ('tanh', 'relu'), solvers ('sgd', 'adam'), learning rates, and maximum iterations.  Cross-validation (5-fold) was utilized to find the optimal hyperparameter combination that maximized accuracy.\n",
    "\n",
    "3. **Optimal Model Selection:** The best performing model, based on cross-validation accuracy, was identified. The best parameters found by GridSearchCV are printed.\n",
    "\n",
    "4. **Performance Evaluation on Test Set:**  The chosen model was evaluated on the held-out test set.  Metrics including accuracy, confusion matrix, and classification report were computed to assess the model's performance on unseen data.\n",
    "\n",
    "5. **Results Summary:**\n",
    "    -  The best hyperparameters and corresponding cross-validation accuracy are reported.\n",
    "    - The accuracy on the test data is presented.\n",
    "    - A confusion matrix, visually displayed, provides a detailed breakdown of correct and incorrect predictions for each class.\n",
    "    - A classification report offers precision, recall, F1-score, and support for each class, offering a comprehensive evaluation of the model's performance.\n",
    "\n",
    "## Overall Assessment:\n",
    "\n",
    "The ANN model, tuned through GridSearchCV, demonstrates good performance on the test set, achieving an approximate accuracy of **97%**, indicating its ability to accurately predict EngagementLevel. The confusion matrix and classification report provide further insights into class-wise performance. The analysis provides a clear and thorough examination of the model's capabilities."
   ]
  }
 ],
 "metadata": {
  "colab": {
   "provenance": []
  },
  "kernelspec": {
   "display_name": "Python 3 (ipykernel)",
   "language": "python",
   "name": "python3"
  },
  "language_info": {
   "codemirror_mode": {
    "name": "ipython",
    "version": 3
   },
   "file_extension": ".py",
   "mimetype": "text/x-python",
   "name": "python",
   "nbconvert_exporter": "python",
   "pygments_lexer": "ipython3",
   "version": "3.12.0"
  }
 },
 "nbformat": 4,
 "nbformat_minor": 4
}
